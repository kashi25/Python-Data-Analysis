{
 "cells": [
  {
   "cell_type": "code",
   "execution_count": 83,
   "metadata": {},
   "outputs": [],
   "source": [
    "import pandas as pd\n",
    "import matplotlib.pyplot as plt\n",
    "import numpy as np\n",
    "\n",
    "cols = ['user id', 'item id', 'rating', 'timestamp']\n",
    "ratings = pd.read_csv('E:/data visualization in python/code/main code/ratings.dat',sep='::',index_col=False, names=cols,encoding=\"UTF-8\",engine='python')"
   ]
  },
  {
   "cell_type": "code",
   "execution_count": 84,
   "metadata": {},
   "outputs": [
    {
     "data": {
      "text/html": [
       "<div>\n",
       "<style scoped>\n",
       "    .dataframe tbody tr th:only-of-type {\n",
       "        vertical-align: middle;\n",
       "    }\n",
       "\n",
       "    .dataframe tbody tr th {\n",
       "        vertical-align: top;\n",
       "    }\n",
       "\n",
       "    .dataframe thead th {\n",
       "        text-align: right;\n",
       "    }\n",
       "</style>\n",
       "<table border=\"1\" class=\"dataframe\">\n",
       "  <thead>\n",
       "    <tr style=\"text-align: right;\">\n",
       "      <th></th>\n",
       "      <th>user id</th>\n",
       "      <th>item id</th>\n",
       "      <th>rating</th>\n",
       "      <th>timestamp</th>\n",
       "    </tr>\n",
       "  </thead>\n",
       "  <tbody>\n",
       "    <tr>\n",
       "      <td>0</td>\n",
       "      <td>1</td>\n",
       "      <td>114508</td>\n",
       "      <td>8</td>\n",
       "      <td>1381006850</td>\n",
       "    </tr>\n",
       "    <tr>\n",
       "      <td>1</td>\n",
       "      <td>2</td>\n",
       "      <td>499549</td>\n",
       "      <td>9</td>\n",
       "      <td>1376753198</td>\n",
       "    </tr>\n",
       "    <tr>\n",
       "      <td>2</td>\n",
       "      <td>2</td>\n",
       "      <td>1305591</td>\n",
       "      <td>8</td>\n",
       "      <td>1376742507</td>\n",
       "    </tr>\n",
       "    <tr>\n",
       "      <td>3</td>\n",
       "      <td>2</td>\n",
       "      <td>1428538</td>\n",
       "      <td>1</td>\n",
       "      <td>1371307089</td>\n",
       "    </tr>\n",
       "    <tr>\n",
       "      <td>4</td>\n",
       "      <td>3</td>\n",
       "      <td>75314</td>\n",
       "      <td>1</td>\n",
       "      <td>1595468524</td>\n",
       "    </tr>\n",
       "  </tbody>\n",
       "</table>\n",
       "</div>"
      ],
      "text/plain": [
       "   user id  item id  rating   timestamp\n",
       "0        1   114508       8  1381006850\n",
       "1        2   499549       9  1376753198\n",
       "2        2  1305591       8  1376742507\n",
       "3        2  1428538       1  1371307089\n",
       "4        3    75314       1  1595468524"
      ]
     },
     "execution_count": 84,
     "metadata": {},
     "output_type": "execute_result"
    }
   ],
   "source": [
    "ratings[:5]"
   ]
  },
  {
   "cell_type": "code",
   "execution_count": 85,
   "metadata": {},
   "outputs": [
    {
     "data": {
      "text/plain": [
       "8     222146\n",
       "7     206680\n",
       "9     130106\n",
       "6     120370\n",
       "10    108351\n",
       "5      69747\n",
       "4      28193\n",
       "3      15487\n",
       "1      10814\n",
       "2       9223\n",
       "0        281\n",
       "Name: rating, dtype: int64"
      ]
     },
     "execution_count": 85,
     "metadata": {},
     "output_type": "execute_result"
    }
   ],
   "source": [
    "#  let us find out how many times each rating appears in the table\n",
    "rating_counts = ratings['rating'].value_counts()\n",
    "rating_counts"
   ]
  },
  {
   "cell_type": "code",
   "execution_count": 89,
   "metadata": {},
   "outputs": [
    {
     "data": {
      "text/plain": [
       "0        281\n",
       "1      10814\n",
       "2       9223\n",
       "3      15487\n",
       "4      28193\n",
       "5      69747\n",
       "6     120370\n",
       "7     206680\n",
       "8     222146\n",
       "9     130106\n",
       "10    108351\n",
       "Name: rating, dtype: int64"
      ]
     },
     "execution_count": 89,
     "metadata": {},
     "output_type": "execute_result"
    }
   ],
   "source": [
    "# display the rating in sorted order\n",
    "sorted_counts = rating_counts.sort_index()\n",
    "sorted_counts"
   ]
  },
  {
   "cell_type": "code",
   "execution_count": 93,
   "metadata": {},
   "outputs": [],
   "source": [
    "# sorted_counts.plot(kind='bar', color='SteelBlue')\n",
    "# plt.title('Movie ratings')\n",
    "# plt.xlabel('Rating')\n",
    "# plt.ylabel('Count')"
   ]
  },
  {
   "cell_type": "code",
   "execution_count": 82,
   "metadata": {},
   "outputs": [
    {
     "data": {
      "image/png": "[encoded data removed]",
      "text/plain": [
       "<Figure size 432x288 with 1 Axes>"
      ]
     },
     "metadata": {
      "needs_background": "light"
     },
     "output_type": "display_data"
    }
   ],
   "source": [
    "# complete code \n",
    "\n",
    "import pandas as pd\n",
    "import matplotlib.pyplot as plt\n",
    "import numpy as np\n",
    "\n",
    "cols = ['user id', 'item id', 'rating', 'timestamp']\n",
    "ratings = pd.read_csv('E:/data visualization in python/code/main code/ratings.dat', sep='::', index_col=False, names=cols, encoding=\"UTF-8\", engine='python')\n",
    "\n",
    "# Convert 'rating' column to numeric data type\n",
    "ratings['rating'] = pd.to_numeric(ratings['rating'])\n",
    "\n",
    "# Find out how many times each rating appears in the table\n",
    "rating_counts = ratings['rating'].value_counts()\n",
    "\n",
    "# Convert rating_counts to a DataFrame\n",
    "rating_counts_df = rating_counts.to_frame().reset_index()\n",
    "rating_counts_df.columns = ['Rating', 'Count']\n",
    "\n",
    "# Sort the rating counts by rating\n",
    "sorted_counts = rating_counts_df.sort_values('Rating')\n",
    "\n",
    "# Convert 'Rating' and 'Count' columns to appropriate data types\n",
    "sorted_counts['Rating'] = pd.to_numeric(sorted_counts['Rating'])\n",
    "sorted_counts['Count'] = pd.to_numeric(sorted_counts['Count'])\n",
    "\n",
    "# Convert 'Rating' and 'Count' columns to NumPy arrays\n",
    "rating_vals = sorted_counts['Rating'].values\n",
    "count_vals = sorted_counts['Count'].values\n",
    "\n",
    "# Create a bar chart using Matplotlib\n",
    "plt.bar(rating_vals, count_vals, color='steelblue')\n",
    "plt.xlabel('Rating')\n",
    "plt.ylabel('Count')\n",
    "plt.title('Movie Ratings')\n",
    "\n",
    "# Show the plot\n",
    "plt.show()\n"
   ]
  },
  {
   "cell_type": "code",
   "execution_count": 95,
   "metadata": {},
   "outputs": [],
   "source": [
    "# Import the necessary libraries: pandas, matplotlib, and numpy.\n",
    "\n",
    "# Read the 'ratings.dat' file into a Pandas DataFrame called 'ratings' using the read_csv() function. The separator is set to '::' and the column names are specified as 'user id', 'item id', 'rating', and 'timestamp' using the names parameter. The encoding is set to 'UTF-8' and the engine is set to 'python'.\n",
    "\n",
    "# Convert the 'rating' column in the 'ratings' DataFrame to numeric data type using pd.to_numeric().\n",
    "\n",
    "# Calculate the count of each unique rating value using the value_counts() method, which returns a Series with the counts.\n",
    "\n",
    "# Convert the resulting Series to a DataFrame called 'rating_counts_df' using to_frame() and reset the index using reset_index(). Set the column names as 'Rating' and 'Count' using the columns parameter.\n",
    "\n",
    "# Sort the 'rating_counts_df' DataFrame by the 'Rating' column using the sort_values() method.\n",
    "\n",
    "# Convert the 'Rating' and 'Count' columns in the 'sorted_counts' DataFrame to numeric data types using pd.to_numeric().\n",
    "\n",
    "# Extract the 'Rating' and 'Count' values from the 'sorted_counts' DataFrame and convert them to NumPy arrays using the values attribute.\n",
    "\n",
    "# Create a bar chart using Matplotlib's plt.bar() function. Pass the 'Rating' and 'Count' arrays as the x and height parameters, respectively. Set the color of the bars to 'steelblue' using the color parameter. Add labels to the x and y axes using plt.xlabel() and plt.ylabel(), respectively. Set the title of the chart using plt.title().\n",
    "\n",
    "# Finally, use plt.show() to display the bar chart."
   ]
  },
  {
   "cell_type": "code",
   "execution_count": null,
   "metadata": {},
   "outputs": [],
   "source": []
  }
 ],
 "metadata": {
  "kernelspec": {
   "display_name": "Python 3",
   "language": "python",
   "name": "python3"
  },
  "language_info": {
   "codemirror_mode": {
    "name": "ipython",
    "version": 3
   },
   "file_extension": ".py",
   "mimetype": "text/x-python",
   "name": "python",
   "nbconvert_exporter": "python",
   "pygments_lexer": "ipython3",
   "version": "3.7.4"
  }
 },
 "nbformat": 4,
 "nbformat_minor": 2
}
